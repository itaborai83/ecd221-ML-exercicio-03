{
  "nbformat": 4,
  "nbformat_minor": 0,
  "metadata": {
    "colab": {
      "name": "Exercício 3 - Problemas de Regressão.ipynb",
      "provenance": [],
      "collapsed_sections": [],
      "include_colab_link": true
    },
    "kernelspec": {
      "name": "python3",
      "display_name": "Python 3"
    }
  },
  "cells": [
    {
      "cell_type": "markdown",
      "metadata": {
        "id": "view-in-github",
        "colab_type": "text"
      },
      "source": [
        "<a href=\"https://colab.research.google.com/github/itaborai83/ecd221-ML-exercicio-03/blob/main/Exerc%C3%ADcio_3_Problemas_de_Regress%C3%A3o.ipynb\" target=\"_parent\"><img src=\"https://colab.research.google.com/assets/colab-badge.svg\" alt=\"Open In Colab\"/></a>"
      ]
    },
    {
      "cell_type": "markdown",
      "metadata": {
        "id": "JzONFe0W2mHw"
      },
      "source": [
        "# Especialização em Ciência de Dados - PUC-Rio\n",
        "# Machine Learning\n",
        "## Exercício 3: Problemas de Regressão"
      ]
    },
    {
      "cell_type": "markdown",
      "metadata": {
        "id": "NnHlnwLF3jh5"
      },
      "source": [
        "\n",
        "\n",
        "---\n",
        "\n",
        "**Aluno(s):**\n",
        "\n",
        "- Alexandre Carboni da Silva\n",
        "\n",
        "- Agnello Hupp\n",
        "\n",
        "- Carlos Andrey Gois de Oliveira\n",
        "\n",
        "- Daniel Lemos Itaboraí\n",
        "\n",
        "- Rafaela Schifino Azevedo\n",
        "\n",
        "- Renan Giordano Sfirri\n",
        "---\n",
        "\n"
      ]
    },
    {
      "cell_type": "markdown",
      "metadata": {
        "id": "oa1y_RrG3C7T"
      },
      "source": [
        "<b>Escolha um dataset simples para problemas de regressão diferente do usado em aula (preferencialmente do UCI Machine Learning Repository - https://archive.ics.uci.edu/ml/index.php) e treine os modelos de regressão aprendidos em aula (Regressão Linear, Ridge, Lasso, ElasticNet, Árvore de Regressão, KNN, SVR).</b>"
      ]
    },
    {
      "cell_type": "markdown",
      "source": [
        "## Instalando dependências e importando pacotes"
      ],
      "metadata": {
        "id": "fvdO84Y508jB"
      }
    },
    {
      "cell_type": "code",
      "metadata": {
        "id": "rbjlQ2WB3EkA",
        "colab": {
          "base_uri": "https://localhost:8080/"
        },
        "outputId": "89cfc626-f5b3-489d-9407-a54329788439"
      },
      "source": [
        "# instalação de pacotes não presentes por padrão no ambiente do Google Colab\n",
        "!pip install feature-engine"
      ],
      "execution_count": 1,
      "outputs": [
        {
          "output_type": "stream",
          "name": "stdout",
          "text": [
            "Looking in indexes: https://pypi.org/simple, https://us-python.pkg.dev/colab-wheels/public/simple/\n",
            "Requirement already satisfied: feature-engine in /usr/local/lib/python3.7/dist-packages (1.4.0)\n",
            "Requirement already satisfied: statsmodels>=0.11.1 in /usr/local/lib/python3.7/dist-packages (from feature-engine) (0.13.2)\n",
            "Requirement already satisfied: numpy>=1.18.2 in /usr/local/lib/python3.7/dist-packages (from feature-engine) (1.21.6)\n",
            "Requirement already satisfied: scipy>=1.4.1 in /usr/local/lib/python3.7/dist-packages (from feature-engine) (1.7.3)\n",
            "Requirement already satisfied: pandas>=1.0.3 in /usr/local/lib/python3.7/dist-packages (from feature-engine) (1.3.5)\n",
            "Requirement already satisfied: scikit-learn>=1.0.0 in /usr/local/lib/python3.7/dist-packages (from feature-engine) (1.0.2)\n",
            "Requirement already satisfied: pytz>=2017.3 in /usr/local/lib/python3.7/dist-packages (from pandas>=1.0.3->feature-engine) (2022.1)\n",
            "Requirement already satisfied: python-dateutil>=2.7.3 in /usr/local/lib/python3.7/dist-packages (from pandas>=1.0.3->feature-engine) (2.8.2)\n",
            "Requirement already satisfied: six>=1.5 in /usr/local/lib/python3.7/dist-packages (from python-dateutil>=2.7.3->pandas>=1.0.3->feature-engine) (1.15.0)\n",
            "Requirement already satisfied: joblib>=0.11 in /usr/local/lib/python3.7/dist-packages (from scikit-learn>=1.0.0->feature-engine) (1.1.0)\n",
            "Requirement already satisfied: threadpoolctl>=2.0.0 in /usr/local/lib/python3.7/dist-packages (from scikit-learn>=1.0.0->feature-engine) (3.1.0)\n",
            "Requirement already satisfied: patsy>=0.5.2 in /usr/local/lib/python3.7/dist-packages (from statsmodels>=0.11.1->feature-engine) (0.5.2)\n",
            "Requirement already satisfied: packaging>=21.3 in /usr/local/lib/python3.7/dist-packages (from statsmodels>=0.11.1->feature-engine) (21.3)\n",
            "Requirement already satisfied: pyparsing!=3.0.5,>=2.0.2 in /usr/local/lib/python3.7/dist-packages (from packaging>=21.3->statsmodels>=0.11.1->feature-engine) (3.0.9)\n"
          ]
        }
      ]
    },
    {
      "cell_type": "code",
      "source": [
        "# imports\n",
        "import pandas as pd\n",
        "import numpy as np\n",
        "import matplotlib.pyplot as plt\n",
        "import seaborn as sns\n",
        "from sklearn import datasets\n",
        "from sklearn import metrics\n",
        "from sklearn.model_selection import cross_validate\n",
        "from sklearn.model_selection import KFold\n",
        "from sklearn.model_selection import cross_val_score\n",
        "from sklearn.model_selection import train_test_split\n",
        "from sklearn.model_selection import GridSearchCV\n",
        "from sklearn.preprocessing import StandardScaler\n",
        "from sklearn.pipeline import Pipeline\n",
        "\n",
        "# Bibliotecas dos algoritmos de regressão\n",
        "from sklearn.linear_model import LinearRegression, Ridge, Lasso, ElasticNet\n",
        "from sklearn.neighbors import KNeighborsRegressor\n",
        "from sklearn.tree import DecisionTreeRegressor\n",
        "from sklearn.svm import SVR\n",
        "\n",
        "# Bibliotecas das métricas de regressão\n",
        "from sklearn.metrics import mean_squared_error\n",
        "from sklearn.metrics import r2_score"
      ],
      "metadata": {
        "id": "Sr4XarNR1dkh"
      },
      "execution_count": 3,
      "outputs": []
    },
    {
      "cell_type": "code",
      "source": [
        "# setup ambiente\n",
        "\n",
        "# supressão de warnings\n",
        "import warnings\n",
        "warnings.filterwarnings(\"ignore\")\n",
        "\n",
        "# configura pandas para exibição de apenas duas casas decimais nas variaveis\n",
        "pd.set_option('display.float_format', lambda x: '%0.2f' % x)\n",
        "\n",
        "# configura cores do Seaborn\n",
        "sns.set()"
      ],
      "metadata": {
        "id": "bHZJTGOO18t9"
      },
      "execution_count": 4,
      "outputs": []
    },
    {
      "cell_type": "markdown",
      "source": [
        "## Importação de Dados"
      ],
      "metadata": {
        "id": "8UCwwTkX2W78"
      }
    },
    {
      "cell_type": "code",
      "source": [
        ""
      ],
      "metadata": {
        "id": "P9U-379k2ZNf"
      },
      "execution_count": null,
      "outputs": []
    },
    {
      "cell_type": "markdown",
      "metadata": {
        "id": "umP9jBPk3Euz"
      },
      "source": [
        "**Agora pesquise outras bibliotecas, modelos de regressão ou funcionalidades (não estudados em sala) e aplique-os no problema. Lembre-se que quanto mais você pesquisar e treinar, mais irá aprender.**"
      ]
    },
    {
      "cell_type": "code",
      "metadata": {
        "id": "uTdps4lW3R8n"
      },
      "source": [
        ""
      ],
      "execution_count": 1,
      "outputs": []
    },
    {
      "cell_type": "markdown",
      "metadata": {
        "id": "11l-FXsq3SEc"
      },
      "source": [
        "**O que você aprendeu sobre o problema de regressão deste dataset?**"
      ]
    },
    {
      "cell_type": "markdown",
      "metadata": {
        "id": "SaICNZX43cNy"
      },
      "source": [
        ""
      ]
    }
  ]
}